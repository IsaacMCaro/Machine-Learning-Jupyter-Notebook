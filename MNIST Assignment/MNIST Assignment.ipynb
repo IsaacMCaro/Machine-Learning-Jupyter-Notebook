{
 "cells": [
  {
   "cell_type": "code",
   "execution_count": 1,
   "metadata": {
    "scrolled": true
   },
   "outputs": [
    {
     "name": "stderr",
     "output_type": "stream",
     "text": [
      "Using TensorFlow backend.\n"
     ]
    }
   ],
   "source": [
    "import pandas as pd\n",
    "import numpy as np\n",
    "import matplotlib.pyplot as plt\n",
    "from keras.models import Sequential\n",
    "from keras.layers import Dense, Dropout, Flatten\n",
    "from keras.layers.convolutional import Conv2D, MaxPooling2D\n",
    "from keras.utils import np_utils\n",
    "from keras.optimizers import RMSprop\n",
    "from keras.callbacks import ReduceLROnPlateau\n",
    "from keras.preprocessing.image import ImageDataGenerator\n",
    "from sklearn.model_selection import train_test_split\n",
    "from random import randrange\n",
    "\n",
    "#load dataframes\n",
    "train = pd.read_csv('train.csv')\n",
    "test = pd.read_csv('test.csv')\n",
    "\n"
   ]
  },
  {
   "cell_type": "code",
   "execution_count": 2,
   "metadata": {},
   "outputs": [
    {
     "data": {
      "image/png": "[encoded data removed]",
      "text/plain": [
       "<Figure size 432x288 with 5 Axes>"
      ]
     },
     "metadata": {
      "needs_background": "light"
     },
     "output_type": "display_data"
    }
   ],
   "source": [
    "#seperates label from pixel values\n",
    "train_x = train.iloc[:,1:]\n",
    "train_y = train.iloc[:,:1]\n",
    "\n",
    "#reshape data and display label/image from reshaped data\n",
    "ax = plt.subplots(1,5)\n",
    "for i in range(0,5):\n",
    "    ax[1][i].imshow(train_x.values[i].reshape(28,28), cmap='gray')\n",
    "    ax[1][i].set_title(train_y.values[i])"
   ]
  },
  {
   "cell_type": "code",
   "execution_count": 3,
   "metadata": {
    "scrolled": false
   },
   "outputs": [
    {
     "name": "stdout",
     "output_type": "stream",
     "text": [
      "WARNING:tensorflow:From /anaconda2/lib/python2.7/site-packages/tensorflow/python/framework/op_def_library.py:263: colocate_with (from tensorflow.python.framework.ops) is deprecated and will be removed in a future version.\n",
      "Instructions for updating:\n",
      "Colocations handled automatically by placer.\n",
      "WARNING:tensorflow:From /anaconda2/lib/python2.7/site-packages/keras/backend/tensorflow_backend.py:3445: calling dropout (from tensorflow.python.ops.nn_ops) with keep_prob is deprecated and will be removed in a future version.\n",
      "Instructions for updating:\n",
      "Please use `rate` instead of `keep_prob`. Rate should be set to `rate = 1 - keep_prob`.\n"
     ]
    }
   ],
   "source": [
    "#building the CNN model function\n",
    "def cnn_model(result_class_size):\n",
    "    model = Sequential()\n",
    "    model.add(Conv2D(30, (5, 5), input_shape=(28,28,1), activation='relu'))\n",
    "    model.add(MaxPooling2D(pool_size=(2, 2)))\n",
    "    model.add(Conv2D(15, (3, 3), activation='relu'))\n",
    "    model.add(Dropout(0.2))\n",
    "    model.add(Flatten())\n",
    "    model.add(Dense(128, activation='relu'))\n",
    "    model.add(Dense(50, activation='relu'))\n",
    "    model.add(Dense(result_class_size, activation='softmax'))   \n",
    "    model.compile(loss='categorical_crossentropy', optimizer=RMSprop(), metrics=['accuracy'])\n",
    "    return model\n",
    "\n",
    "#creating the model\n",
    "aTrain_y = np_utils.to_categorical(train_y['label'].values)\n",
    "model = cnn_model(aTrain_y.shape[1])\n"
   ]
  },
  {
   "cell_type": "code",
   "execution_count": 4,
   "metadata": {},
   "outputs": [],
   "source": [
    "#normalization of greyscale vals to 0 or 1\n",
    "test = test/ 255\n",
    "train_x= train_x / 255\n",
    "\n",
    "#training and testing data is reshaped\n",
    "train_x_28x28 = np.reshape(train_x.values, (train_x.values.shape[0], 28, 28, 1))\n",
    "test_x_28x28 = np.reshape(test.values, (test.values.shape[0], 28, 28, 1))\n",
    "\n",
    "#spearate 8% of testing data into validation data\n",
    "random_seed = 7\n",
    "split_train_x, split_val_x, split_train_y, split_val_y, = train_test_split(train_x_28x28, aTrain_y, test_size = 0.08, random_state=random_seed)\n"
   ]
  },
  {
   "cell_type": "code",
   "execution_count": 5,
   "metadata": {},
   "outputs": [],
   "source": [
    "#creates a way to adjust the learning rate while training model\n",
    "reduce_lr = ReduceLROnPlateau(monitor='val_acc', \n",
    "                              factor=0.3, \n",
    "                              patience=3, \n",
    "                              min_lr=0.0001)"
   ]
  },
  {
   "cell_type": "code",
   "execution_count": 6,
   "metadata": {},
   "outputs": [
    {
     "name": "stdout",
     "output_type": "stream",
     "text": [
      "WARNING:tensorflow:From /anaconda2/lib/python2.7/site-packages/tensorflow/python/ops/math_ops.py:3066: to_int32 (from tensorflow.python.ops.math_ops) is deprecated and will be removed in a future version.\n",
      "Instructions for updating:\n",
      "Use tf.cast instead.\n",
      "Epoch 1/30\n",
      " - 16s - loss: 0.4144 - acc: 0.8660 - val_loss: 0.0811 - val_acc: 0.9774\n",
      "Epoch 2/30\n",
      " - 16s - loss: 0.1466 - acc: 0.9556 - val_loss: 0.0568 - val_acc: 0.9836\n",
      "Epoch 3/30\n",
      " - 17s - loss: 0.1036 - acc: 0.9676 - val_loss: 0.0462 - val_acc: 0.9854\n",
      "Epoch 4/30\n",
      " - 18s - loss: 0.0876 - acc: 0.9730 - val_loss: 0.0468 - val_acc: 0.9866\n",
      "Epoch 5/30\n",
      " - 18s - loss: 0.0770 - acc: 0.9766 - val_loss: 0.0440 - val_acc: 0.9869\n",
      "Epoch 6/30\n",
      " - 17s - loss: 0.0698 - acc: 0.9786 - val_loss: 0.0394 - val_acc: 0.9896\n",
      "Epoch 7/30\n",
      " - 17s - loss: 0.0655 - acc: 0.9799 - val_loss: 0.0469 - val_acc: 0.9863\n",
      "Epoch 8/30\n",
      " - 17s - loss: 0.0574 - acc: 0.9820 - val_loss: 0.0332 - val_acc: 0.9917\n",
      "Epoch 9/30\n",
      " - 17s - loss: 0.0602 - acc: 0.9819 - val_loss: 0.0411 - val_acc: 0.9908\n",
      "Epoch 10/30\n",
      " - 17s - loss: 0.0576 - acc: 0.9827 - val_loss: 0.0396 - val_acc: 0.9908\n",
      "Epoch 11/30\n",
      " - 16s - loss: 0.0550 - acc: 0.9833 - val_loss: 0.0366 - val_acc: 0.9899\n",
      "Epoch 12/30\n",
      " - 17s - loss: 0.0397 - acc: 0.9879 - val_loss: 0.0288 - val_acc: 0.9932\n",
      "Epoch 13/30\n",
      " - 17s - loss: 0.0386 - acc: 0.9885 - val_loss: 0.0310 - val_acc: 0.9908\n",
      "Epoch 14/30\n",
      " - 16s - loss: 0.0366 - acc: 0.9885 - val_loss: 0.0300 - val_acc: 0.9917\n",
      "Epoch 15/30\n",
      " - 16s - loss: 0.0358 - acc: 0.9891 - val_loss: 0.0295 - val_acc: 0.9932\n",
      "Epoch 16/30\n",
      " - 17s - loss: 0.0317 - acc: 0.9902 - val_loss: 0.0274 - val_acc: 0.9926\n",
      "Epoch 17/30\n",
      " - 16s - loss: 0.0314 - acc: 0.9901 - val_loss: 0.0285 - val_acc: 0.9917\n",
      "Epoch 18/30\n",
      " - 17s - loss: 0.0307 - acc: 0.9904 - val_loss: 0.0285 - val_acc: 0.9917\n",
      "Epoch 19/30\n",
      " - 17s - loss: 0.0324 - acc: 0.9899 - val_loss: 0.0279 - val_acc: 0.9920\n",
      "Epoch 20/30\n",
      " - 17s - loss: 0.0300 - acc: 0.9910 - val_loss: 0.0278 - val_acc: 0.9920\n",
      "Epoch 21/30\n",
      " - 18s - loss: 0.0309 - acc: 0.9908 - val_loss: 0.0275 - val_acc: 0.9923\n",
      "Epoch 22/30\n",
      " - 17s - loss: 0.0305 - acc: 0.9907 - val_loss: 0.0268 - val_acc: 0.9932\n",
      "Epoch 23/30\n",
      " - 18s - loss: 0.0294 - acc: 0.9911 - val_loss: 0.0280 - val_acc: 0.9920\n",
      "Epoch 24/30\n",
      " - 18s - loss: 0.0313 - acc: 0.9901 - val_loss: 0.0284 - val_acc: 0.9920\n",
      "Epoch 25/30\n",
      " - 17s - loss: 0.0294 - acc: 0.9912 - val_loss: 0.0298 - val_acc: 0.9923\n",
      "Epoch 26/30\n",
      " - 16s - loss: 0.0280 - acc: 0.9906 - val_loss: 0.0274 - val_acc: 0.9917\n",
      "Epoch 27/30\n",
      " - 16s - loss: 0.0265 - acc: 0.9919 - val_loss: 0.0264 - val_acc: 0.9926\n",
      "Epoch 28/30\n",
      " - 16s - loss: 0.0312 - acc: 0.9911 - val_loss: 0.0268 - val_acc: 0.9923\n",
      "Epoch 29/30\n",
      " - 16s - loss: 0.0286 - acc: 0.9915 - val_loss: 0.0266 - val_acc: 0.9932\n",
      "Epoch 30/30\n",
      " - 17s - loss: 0.0296 - acc: 0.9909 - val_loss: 0.0269 - val_acc: 0.9920\n"
     ]
    },
    {
     "data": {
      "text/plain": [
       "<keras.callbacks.History at 0x111883890>"
      ]
     },
     "execution_count": 6,
     "metadata": {},
     "output_type": "execute_result"
    }
   ],
   "source": [
    "#uses the image generator from Keras to produce more images to test against than the original dataset provides. \n",
    "datagen = ImageDataGenerator( rotation_range=10, zoom_range = 0.1, width_shift_range=0.1, height_shift_range=0.1) \n",
    "datagen.fit(split_train_x)\n",
    "\n",
    "#uses 30 rounds to train the model against testing and validation sets using the LR reduction technique in addition to the image generator\n",
    "model.fit_generator(datagen.flow(split_train_x,split_train_y, batch_size=64),\n",
    "                    epochs = 30, validation_data = (split_val_x,split_val_y),\n",
    "                    verbose = 2, steps_per_epoch=640, callbacks=[reduce_lr])"
   ]
  },
  {
   "cell_type": "code",
   "execution_count": 7,
   "metadata": {},
   "outputs": [],
   "source": [
    "#create prediction and export\n",
    "prediction = model.predict_classes(test_x_28x28, verbose=0)\n",
    "submission = pd.DataFrame({\"ImageId\": list(range(1,len(prediction)+1)), \"Label\": prediction})\n",
    "submission.to_csv(\"result.csv\", header=True, index = False)\n"
   ]
  },
  {
   "cell_type": "code",
   "execution_count": 11,
   "metadata": {
    "scrolled": true
   },
   "outputs": [
    {
     "data": {
      "image/png": "[encoded data removed]",
      "text/plain": [
       "<Figure size 1080x576 with 10 Axes>"
      ]
     },
     "metadata": {
      "needs_background": "light"
     },
     "output_type": "display_data"
    }
   ],
   "source": [
    "#see results of the model after training to ensure its accurate\n",
    "start_idx = randrange(test.shape[0]-10)\n",
    "fig, ax = plt.subplots(2,5, figsize=(15,8))\n",
    "for j in range(0,2):\n",
    "    for i in range(0,5):\n",
    "        ax[j][i].imshow(test.values[start_idx].reshape(28,28), cmap='gray')\n",
    "        ax[j][i].set_title(\"Index:{} \\nPrediction:{}\".format(start_idx, prediction[start_idx]))\n",
    "        start_idx +=1"
   ]
  }
 ],
 "metadata": {
  "kernelspec": {
   "display_name": "Python 2",
   "language": "python",
   "name": "python2"
  },
  "language_info": {
   "codemirror_mode": {
    "name": "ipython",
    "version": 2
   },
   "file_extension": ".py",
   "mimetype": "text/x-python",
   "name": "python",
   "nbconvert_exporter": "python",
   "pygments_lexer": "ipython2",
   "version": "2.7.15"
  }
 },
 "nbformat": 4,
 "nbformat_minor": 2
}
